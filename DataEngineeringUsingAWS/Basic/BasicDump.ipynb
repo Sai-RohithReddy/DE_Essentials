{
 "cells": [
  {
   "cell_type": "code",
   "execution_count": null,
   "id": "596d6c0d-410e-4f89-9aba-2d8b67a874ff",
   "metadata": {
    "is_executing": true
   },
   "outputs": [],
   "source": [
    "! aws s3 ls"
   ]
  },
  {
   "cell_type": "code",
   "execution_count": null,
   "id": "6dd7dd6b-8308-4949-8a86-2ff242f510e9",
   "metadata": {},
   "outputs": [],
   "source": [
    "! "
   ]
  }
 ],
 "metadata": {
  "kernelspec": {
   "display_name": "Python 3 (ipykernel)",
   "language": "python",
   "name": "python3"
  },
  "language_info": {
   "codemirror_mode": {
    "name": "ipython",
    "version": 3
   },
   "file_extension": ".py",
   "mimetype": "text/x-python",
   "name": "python",
   "nbconvert_exporter": "python",
   "pygments_lexer": "ipython3",
   "version": "3.12.0"
  }
 },
 "nbformat": 4,
 "nbformat_minor": 5
}
