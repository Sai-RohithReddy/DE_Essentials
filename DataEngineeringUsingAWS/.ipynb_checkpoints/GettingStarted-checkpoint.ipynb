{
 "cells": [
  {
   "cell_type": "code",
   "execution_count": 1,
   "id": "ae2b4568-15d7-4a19-860c-8c1e67ca441f",
   "metadata": {},
   "outputs": [
    {
     "name": "stdout",
     "output_type": "stream",
     "text": [
      "Hello World\n"
     ]
    }
   ],
   "source": [
    "print('Hello World')"
   ]
  },
  {
   "cell_type": "code",
   "execution_count": 1,
   "id": "dec6fa46-6697-4e9e-92bf-c3678e5052db",
   "metadata": {},
   "outputs": [],
   "source": [
    "import boto3"
   ]
  },
  {
   "cell_type": "code",
   "execution_count": 2,
   "id": "1aeaba9a-97e4-4127-9742-079e6de6169a",
   "metadata": {},
   "outputs": [
    {
     "data": {
      "text/plain": [
       "['rr-retail']"
      ]
     },
     "execution_count": 2,
     "metadata": {},
     "output_type": "execute_result"
    }
   ],
   "source": [
    "s3_client = boto3.client('s3')\n",
    "# print(type(s3_client))\n",
    "buckets = s3_client.list_buckets()['Buckets']\n",
    "bucket_name = [bucket['Name'] for bucket in buckets]\n",
    "bucket_name"
   ]
  },
  {
   "cell_type": "code",
   "execution_count": null,
   "id": "32509dfb-989a-4103-b7c8-70425b44ceb5",
   "metadata": {},
   "outputs": [],
   "source": []
  },
  {
   "cell_type": "code",
   "execution_count": null,
   "id": "a0d7192f-6133-4481-89f1-cf1963fda624",
   "metadata": {},
   "outputs": [],
   "source": []
  }
 ],
 "metadata": {
  "kernelspec": {
   "display_name": "Python 3 (ipykernel)",
   "language": "python",
   "name": "python3"
  },
  "language_info": {
   "codemirror_mode": {
    "name": "ipython",
    "version": 3
   },
   "file_extension": ".py",
   "mimetype": "text/x-python",
   "name": "python",
   "nbconvert_exporter": "python",
   "pygments_lexer": "ipython3",
   "version": "3.12.0"
  }
 },
 "nbformat": 4,
 "nbformat_minor": 5
}
