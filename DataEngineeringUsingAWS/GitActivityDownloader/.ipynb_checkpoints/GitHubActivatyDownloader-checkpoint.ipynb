{
 "cells": [
  {
   "cell_type": "code",
   "execution_count": 1,
   "id": "0e7e935a-dc5a-43b1-9299-d0fdbeb8b156",
   "metadata": {},
   "outputs": [
    {
     "name": "stdout",
     "output_type": "stream",
     "text": [
      "Requirement already satisfied: requests in c:\\users\\vrddam\\desktop\\de_essentials\\dataengineeringusingaws\\de-venv\\lib\\site-packages (2.31.0)\n",
      "Requirement already satisfied: charset-normalizer<4,>=2 in c:\\users\\vrddam\\desktop\\de_essentials\\dataengineeringusingaws\\de-venv\\lib\\site-packages (from requests) (3.3.2)\n",
      "Requirement already satisfied: idna<4,>=2.5 in c:\\users\\vrddam\\desktop\\de_essentials\\dataengineeringusingaws\\de-venv\\lib\\site-packages (from requests) (3.6)\n",
      "Requirement already satisfied: urllib3<3,>=1.21.1 in c:\\users\\vrddam\\desktop\\de_essentials\\dataengineeringusingaws\\de-venv\\lib\\site-packages (from requests) (2.0.7)\n",
      "Requirement already satisfied: certifi>=2017.4.17 in c:\\users\\vrddam\\desktop\\de_essentials\\dataengineeringusingaws\\de-venv\\lib\\site-packages (from requests) (2024.2.2)\n"
     ]
    },
    {
     "name": "stderr",
     "output_type": "stream",
     "text": [
      "\n",
      "[notice] A new release of pip is available: 23.2.1 -> 24.0\n",
      "[notice] To update, run: python.exe -m pip install --upgrade pip\n"
     ]
    }
   ],
   "source": [
    "!pip install requests"
   ]
  },
  {
   "cell_type": "code",
   "execution_count": 3,
   "id": "fa71725e-663f-4f11-9706-375c8422fff0",
   "metadata": {},
   "outputs": [
    {
     "name": "stdout",
     "output_type": "stream",
     "text": [
      "Requirement already satisfied: boto3 in c:\\users\\vrddam\\desktop\\de_essentials\\dataengineeringusingaws\\de-venv\\lib\\site-packages (1.34.39)\n",
      "Requirement already satisfied: botocore<1.35.0,>=1.34.39 in c:\\users\\vrddam\\desktop\\de_essentials\\dataengineeringusingaws\\de-venv\\lib\\site-packages (from boto3) (1.34.39)\n",
      "Requirement already satisfied: jmespath<2.0.0,>=0.7.1 in c:\\users\\vrddam\\desktop\\de_essentials\\dataengineeringusingaws\\de-venv\\lib\\site-packages (from boto3) (1.0.1)\n",
      "Requirement already satisfied: s3transfer<0.11.0,>=0.10.0 in c:\\users\\vrddam\\desktop\\de_essentials\\dataengineeringusingaws\\de-venv\\lib\\site-packages (from boto3) (0.10.0)\n",
      "Requirement already satisfied: python-dateutil<3.0.0,>=2.1 in c:\\users\\vrddam\\desktop\\de_essentials\\dataengineeringusingaws\\de-venv\\lib\\site-packages (from botocore<1.35.0,>=1.34.39->boto3) (2.8.2)\n",
      "Requirement already satisfied: urllib3<2.1,>=1.25.4 in c:\\users\\vrddam\\desktop\\de_essentials\\dataengineeringusingaws\\de-venv\\lib\\site-packages (from botocore<1.35.0,>=1.34.39->boto3) (2.0.7)\n",
      "Requirement already satisfied: six>=1.5 in c:\\users\\vrddam\\desktop\\de_essentials\\dataengineeringusingaws\\de-venv\\lib\\site-packages (from python-dateutil<3.0.0,>=2.1->botocore<1.35.0,>=1.34.39->boto3) (1.16.0)\n"
     ]
    },
    {
     "name": "stderr",
     "output_type": "stream",
     "text": [
      "\n",
      "[notice] A new release of pip is available: 23.2.1 -> 24.0\n",
      "[notice] To update, run: python.exe -m pip install --upgrade pip\n"
     ]
    }
   ],
   "source": [
    "!pip install boto3"
   ]
  },
  {
   "cell_type": "code",
   "execution_count": 13,
   "id": "eab70db1-287c-4f3e-a44c-5db2655be165",
   "metadata": {},
   "outputs": [],
   "source": [
    "!mkdir GitActivityDownloader\\ghalib"
   ]
  },
  {
   "cell_type": "code",
   "execution_count": 1,
   "id": "9781a48d-707c-4429-9d3b-609735507395",
   "metadata": {},
   "outputs": [
    {
     "name": "stdout",
     "output_type": "stream",
     "text": [
      "Collecting requests\n",
      "  Obtaining dependency information for requests from https://files.pythonhosted.org/packages/70/8e/0e2d847013cb52cd35b38c009bb167a1a26b2ce6cd6965bf26b47bc0bf44/requests-2.31.0-py3-none-any.whl.metadata\n",
      "  Using cached requests-2.31.0-py3-none-any.whl.metadata (4.6 kB)\n",
      "Collecting charset-normalizer<4,>=2 (from requests)\n",
      "  Obtaining dependency information for charset-normalizer<4,>=2 from https://files.pythonhosted.org/packages/b6/7c/8debebb4f90174074b827c63242c23851bdf00a532489fba57fef3416e40/charset_normalizer-3.3.2-cp312-cp312-win_amd64.whl.metadata\n",
      "  Using cached charset_normalizer-3.3.2-cp312-cp312-win_amd64.whl.metadata (34 kB)\n",
      "Collecting idna<4,>=2.5 (from requests)\n",
      "  Obtaining dependency information for idna<4,>=2.5 from https://files.pythonhosted.org/packages/c2/e7/a82b05cf63a603df6e68d59ae6a68bf5064484a0718ea5033660af4b54a9/idna-3.6-py3-none-any.whl.metadata\n",
      "  Using cached idna-3.6-py3-none-any.whl.metadata (9.9 kB)\n",
      "Collecting urllib3<3,>=1.21.1 (from requests)\n",
      "  Obtaining dependency information for urllib3<3,>=1.21.1 from https://files.pythonhosted.org/packages/88/75/311454fd3317aefe18415f04568edc20218453b709c63c58b9292c71be17/urllib3-2.2.0-py3-none-any.whl.metadata\n",
      "  Downloading urllib3-2.2.0-py3-none-any.whl.metadata (6.4 kB)\n",
      "Collecting certifi>=2017.4.17 (from requests)\n",
      "  Obtaining dependency information for certifi>=2017.4.17 from https://files.pythonhosted.org/packages/ba/06/a07f096c664aeb9f01624f858c3add0a4e913d6c96257acb4fce61e7de14/certifi-2024.2.2-py3-none-any.whl.metadata\n",
      "  Using cached certifi-2024.2.2-py3-none-any.whl.metadata (2.2 kB)\n",
      "Using cached requests-2.31.0-py3-none-any.whl (62 kB)\n",
      "Using cached certifi-2024.2.2-py3-none-any.whl (163 kB)\n",
      "Using cached charset_normalizer-3.3.2-cp312-cp312-win_amd64.whl (100 kB)\n",
      "Using cached idna-3.6-py3-none-any.whl (61 kB)\n",
      "Downloading urllib3-2.2.0-py3-none-any.whl (120 kB)\n",
      "   ---------------------------------------- 0.0/120.9 kB ? eta -:--:--\n",
      "   ---------------------------------------- 0.0/120.9 kB ? eta -:--:--\n",
      "   --- ------------------------------------ 10.2/120.9 kB ? eta -:--:--\n",
      "   ------------- ------------------------- 41.0/120.9 kB 487.6 kB/s eta 0:00:01\n",
      "   ------------------------------------- -- 112.6/120.9 kB 1.1 MB/s eta 0:00:01\n",
      "   -------------------------------------- 120.9/120.9 kB 885.1 kB/s eta 0:00:00\n",
      "Installing collected packages: urllib3, idna, charset-normalizer, certifi, requests\n",
      "Successfully installed certifi-2024.2.2 charset-normalizer-3.3.2 idna-3.6 requests-2.31.0 urllib3-2.2.0\n"
     ]
    },
    {
     "name": "stderr",
     "output_type": "stream",
     "text": [
      "ERROR: pip's dependency resolver does not currently take into account all the packages that are installed. This behaviour is the source of the following dependency conflicts.\n",
      "botocore 1.34.39 requires urllib3<2.1,>=1.25.4; python_version >= \"3.10\", but you have urllib3 2.2.0 which is incompatible.\n",
      "\n",
      "[notice] A new release of pip is available: 23.2.1 -> 24.0\n",
      "[notice] To update, run: python.exe -m pip install --upgrade pip\n"
     ]
    }
   ],
   "source": [
    "!pip install requests -t ghalib"
   ]
  },
  {
   "cell_type": "code",
   "execution_count": 2,
   "id": "e1b1d4b0-1e64-4e38-992e-06b87c0f1c5d",
   "metadata": {},
   "outputs": [],
   "source": [
    "# create lambda_function.py\n",
    "# lambda_validate.py"
   ]
  },
  {
   "cell_type": "code",
   "execution_count": 6,
   "id": "fda35a05-71ad-4cbc-b39d-ad6724a6b262",
   "metadata": {},
   "outputs": [
    {
     "name": "stderr",
     "output_type": "stream",
     "text": [
      "'gunzip' is not recognized as an internal or external command,\n",
      "operable program or batch file.\n"
     ]
    }
   ],
   "source": [
    "!zip -r ghactivity-downloader.zip lambda_function.py"
   ]
  },
  {
   "cell_type": "code",
   "execution_count": null,
   "id": "39c09283-53ae-419c-98c8-994d659a77da",
   "metadata": {},
   "outputs": [],
   "source": []
  }
 ],
 "metadata": {
  "kernelspec": {
   "display_name": "Python 3 (ipykernel)",
   "language": "python",
   "name": "python3"
  },
  "language_info": {
   "codemirror_mode": {
    "name": "ipython",
    "version": 3
   },
   "file_extension": ".py",
   "mimetype": "text/x-python",
   "name": "python",
   "nbconvert_exporter": "python",
   "pygments_lexer": "ipython3",
   "version": "3.12.0"
  }
 },
 "nbformat": 4,
 "nbformat_minor": 5
}
